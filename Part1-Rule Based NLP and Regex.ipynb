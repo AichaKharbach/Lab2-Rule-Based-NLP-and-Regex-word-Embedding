{
 "cells": [
  {
   "cell_type": "markdown",
   "id": "26a958e2",
   "metadata": {},
   "source": [
    "<h2 style=\"color:black;\">Lab2 </h2>\n",
    "\n",
    "<hr style=\"border:2px solid black;\">\n",
    "\n",
    "<h4 style=\"color:black;\">Realised by:</h4>\n",
    "<ul>\n",
    "    <li><strong style=\"color:black;\">Aicha Kharbach</strong></li>\n",
    "</ul>\n",
    "\n",
    "<h4 style=\"color:black;\">Guided by:</h4> \n",
    "<ul>\n",
    "    <li><strong style=\"color:black;\">Pr . ELAACHAk LOTFI</strong></li>\n",
    "</ul>\n",
    "<p><strong>The main purpose behind this lab is to get familiar with NLP Rule based, Regex\n",
    "and NLP Word embedding.</p>"
   ]
  },
  {
   "cell_type": "markdown",
   "id": "44d90c3e",
   "metadata": {},
   "source": [
    "<h3>Part 1:Rule Based NLP and Regex:</h3>"
   ]
  },
  {
   "cell_type": "markdown",
   "id": "cdc2f028",
   "metadata": {},
   "source": [
    "<p>The exercise involves using Regex in a Python script to parse and format information from text in order to generate a bill.</p>"
   ]
  },
  {
   "cell_type": "code",
   "execution_count": 1,
   "id": "30c635e3",
   "metadata": {},
   "outputs": [],
   "source": [
    "import re\n",
    "from word2number import w2n\n",
    "\n",
    "def clean_product_name(product):\n",
    "    # List of noise words that might appear in product names\n",
    "    noise_words = ['kilos of', 'for', 'with', 'a kilogram', 'each', 'dollars', '$']\n",
    "    # Remove each noise word from the product name using regex\n",
    "    for noise in noise_words:\n",
    "        product = re.sub(r'\\b' + noise + r'\\b', '', product)\n",
    "    return product.strip()"
   ]
  },
  {
   "cell_type": "code",
   "execution_count": 2,
   "id": "e064ef6c",
   "metadata": {},
   "outputs": [],
   "source": [
    "def convert_numbers_in_text(text):\n",
    "    # Split the text into individual words\n",
    "    words = text.split()\n",
    "    converted_words = []\n",
    "    # Convert each word to a number if possible, otherwise keep the word\n",
    "    for word in words:\n",
    "        try:\n",
    "            number = w2n.word_to_num(word)\n",
    "            converted_words.append(str(number))\n",
    "        except ValueError:\n",
    "            converted_words.append(word)\n",
    "    return ' '.join(converted_words)"
   ]
  },
  {
   "cell_type": "code",
   "execution_count": 3,
   "id": "005e8dd3",
   "metadata": {},
   "outputs": [],
   "source": [
    "def generate_bill(text):\n",
    "    # Convert textual numbers in the input text to numeric form\n",
    "    converted_text = convert_numbers_in_text(text)\n",
    "    # Regex pattern to extract quantity, product name, and price from the text\n",
    "    pattern = r'(\\d+)\\s+(.*?)\\s+(\\d+(?:[.,]\\d+)?)\\s*(?:dollars?|each|\\$|a kilogram)?'\n",
    "    # Find all matches of the pattern in the text\n",
    "    items = re.findall(pattern, converted_text)\n",
    "    if not items:\n",
    "        print(\"No items found in the text. Please provide correct data.\")\n",
    "        return\n",
    "\n",
    "    # Clean the product names and convert quantities and prices to appropriate types\n",
    "    cleaned_items = [\n",
    "        (int(item[0]), clean_product_name(item[1]), float(item[2].replace(',', '.')))\n",
    "        for item in items\n",
    "    ]\n",
    "\n",
    "    print(\"\\nGenerated Bill:\")\n",
    "    print(\"{:<20} {:<10} {:<10} {:<10}\".format(\"Product\", \"Quantity\", \"Unit Price\", \"Total Price\"))\n",
    "\n",
    "    # Calculate and display the total price for each item\n",
    "    for quantity, product, unit_price in cleaned_items:\n",
    "        total_price = quantity * unit_price\n",
    "        print(\"{:<20} {:<10} {:.2f} {:.2f}\".format(product, quantity, unit_price, total_price))"
   ]
  },
  {
   "cell_type": "code",
   "execution_count": 4,
   "id": "41932f83",
   "metadata": {},
   "outputs": [
    {
     "name": "stdout",
     "output_type": "stream",
     "text": [
      "Please enter the details of your purchases: I bought three Samsung smartphones 150 $ each, four kilos of fresh banana for 1,2 dollar a kilogram and one Hamburger with 4,5 dollar\n",
      "\n",
      "Generated Bill:\n",
      "Product              Quantity   Unit Price Total Price\n",
      "Samsung smartphones  3          150.00 450.00\n",
      "fresh banana         4          1.20 4.80\n",
      "Hamburger            1          4.50 4.50\n"
     ]
    }
   ],
   "source": [
    "user_input = input(\"Please enter the details of your purchases: \")\n",
    "generate_bill(user_input)"
   ]
  }
 ],
 "metadata": {
  "kernelspec": {
   "display_name": "Python 3 (ipykernel)",
   "language": "python",
   "name": "python3"
  },
  "language_info": {
   "codemirror_mode": {
    "name": "ipython",
    "version": 3
   },
   "file_extension": ".py",
   "mimetype": "text/x-python",
   "name": "python",
   "nbconvert_exporter": "python",
   "pygments_lexer": "ipython3",
   "version": "3.11.5"
  }
 },
 "nbformat": 4,
 "nbformat_minor": 5
}
